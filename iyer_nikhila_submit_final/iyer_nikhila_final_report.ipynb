{
 "cells": [
  {
   "cell_type": "markdown",
   "id": "eb5401ec",
   "metadata": {},
   "source": [
    "<h1 style='color:#006241; font-family:Times; size:15pt'> Analyzing the Potential Relationship between the Presence of Starbucks and the Gentrification of an Area</h1>\n",
    "<p style='font-family:Times; size:12pt'> Nikhila Iyer </p>\n",
    "<p style='font-family:Times; size:12pt'> December 16, 2021 </p>\n",
    "<p style='font-family:Times; size:12pt'> Word Count: 3738 </p>"
   ]
  },
  {
   "cell_type": "markdown",
   "id": "cd04d39b",
   "metadata": {},
   "source": [
    "<b style= 'color:#4c9f87; size:12pt; font-family:Times'> Introduction </b>"
   ]
  },
  {
   "attachments": {},
   "cell_type": "markdown",
   "id": "1830c5b3",
   "metadata": {},
   "source": [
    "<p style='font-family:Times; size:12pt;line-height: 2'> &emsp;&emsp; As the socioeconomic divide increases within the United States, there is consistently more room for corporations to grow and understand their part in causing or benefitting from the gentrification happening in America. The aim of this project is to determine whether or not there is a relationship between the existence of Starbucks locations in an area and the level of gentrification in that area. Gentrification is determined by a number of various indicators. By analyzing a select few of these indicators and their potential relationship to the Starbucks locations, there can be further conclusions drawn from the direct relationship present. </p>"
   ]
  },
  {
   "attachments": {},
   "cell_type": "markdown",
   "id": "3f94c772",
   "metadata": {},
   "source": [
    "<b style= 'color:#4c9f87; font-family: Times; size:12pt'> Problem Statement + Background </b>"
   ]
  },
  {
   "attachments": {},
   "cell_type": "markdown",
   "id": "88303224",
   "metadata": {},
   "source": [
    "<p style='font-family:Times; size:12pt;line-height: 2'> &emsp;&emsp; Gentrification is the process by which a low socioeconomic area gets changed through the influx of more affluent residents and businesses. The term gentrification was introduced in 1964 by sociologist Ruth Glass, where she described the displacement of the working class and noted “whole social character of the [area] is changed” due to the influx of wealthier residents (Glass, London: Aspects of Change). It results of an increase in property values of the area, which usually drives out the current residents. There are also other measures of gentrification, such as change in median household income and percent of residents with a college degree. These indicators also point to an increase in disposable income per neighborhood, which contributes to the changes in the local economy and is the focus of the consumption theory. Geographer David Ley presented this theory that puts gentrification as a result of social change, where the middle class is growing and has more purchasing power than ever before. This affects which shops and restaurants they choose to support and opens the door for the influx of corporate chains that can afford to be in the area.</p>\n",
    "\n",
    "<p style='font-family:Times; size:12pt;line-height: 2'> &emsp;&emsp; Starbucks is an international coffeehouse chain headquartered in Seattle, Washington. The coffee shop has become a staple within society and it deeply embedded itself into culture and norms today. Although it is just a cup of coffee, Starbucks has become a status symbol of sorts. Popular media and culture have taken Starbucks and given it meanings that may not be related to coffee at all. There are associations with Starbucks being “basic” and more targeted towards white people. These culturally implications could have an effect on the audience that buys from Starbucks, which may lead to the company targeting specific areas for their store placements.</p>\n",
    "\n",
    "<p style='font-family:Times; size:12pt;line-height: 2'> &emsp;&emsp; Starbucks does have a reputation for targeting higher income groups, which could affect their consumer base. Gentrification of an area tends to bring in affluent individuals and businesses, and Starbucks is a large corporation with the means and ability to function in the higher socioeconomic areas of the United States. In this project, I plan to deduce if there is a relationship between the gentrification of an area and the potential that a Starbucks could be placed in that area as well.</p>"
   ]
  },
  {
   "cell_type": "markdown",
   "id": "b62e4574",
   "metadata": {},
   "source": [
    "<b style= 'color:#4c9f87; size:12pt; font-family:Times'> Data </b>"
   ]
  },
  {
   "attachments": {},
   "cell_type": "markdown",
   "id": "7c50012f",
   "metadata": {},
   "source": [
    "<p style='font-family:Times; size:12pt;line-height: 2'> &emsp;&emsp; For this project as I had to collect data on a few items. First, I needed data on the placement of Starbucks stores, which is the outcome of interest. Next, the predictor variables of interest are the indicators of gentrification which are average home value, population density, and percentage of the population with a college degree. All these had to align, in the sense that I needed data for several cities that spanned all of these categories. There are few main sources of data for this reason. </p>\n",
    "<p style='font-family:Times; size:12pt;line-height: 2'> &emsp;&emsp; The Starbucks location data came from dataset created through scraping via the Starbucks store locator API. The dataset was created in 2017, so the locations are as up to date as of that year. Initially I thought this might be an issue, but it actually worked out better for the project as I could gather gentrification data from before and after the year. The dataset was extremely expansive; as Starbucks is an international chain, this dataset covered all stores worldwide. My project was focusing on gentrification within the United States, so I dropped all observations that were not stores in the US. The dataset also included other brands owned by Starbucks such as Teavana, their tea focused store, or Evolution Fresh, a smoothie segment only in seen in Seattle. These observations only made up 1.3% of the data, so I dropped them and focused only on true Starbucks locations. The data also distinguished between company owned versus licensed stores, and below I have included Figure 1, which shows the state by state breakdown of stores and the ownership types. The difference between the two is company owned stores are operated by Starbucks Corporate while licensed stores are similar to franchises, but business based. These are usually the ones we see in Targets, Safeways (grocery stores), or airports. Upon further research, we see that Starbucks still has control over the placement and production of licensed stores, and with that information I decided to include both ownership types of Starbucks from the data in my analysis. From there, I created a subset of the data frame that featured just the city (format: city, state) and the number of Starbucks stores in that city. </p>"
   ]
  },
  {
   "cell_type": "markdown",
   "id": "e22e28ba",
   "metadata": {},
   "source": [
    "Figure 1: Starbucks Locations by State, Separated by Ownership Type"
   ]
  },
  {
   "cell_type": "markdown",
   "id": "df265c98",
   "metadata": {},
   "source": [
    "![Figure 1](https://github.com/nikhila-iyer/sbux-gent/blob/main/figures/fig1.png?raw=true)"
   ]
  },
  {
   "attachments": {},
   "cell_type": "markdown",
   "id": "02ad9d6d",
   "metadata": {},
   "source": [
    "<p style='font-family:Times; size:12pt;line-height: 2'> &emsp;&emsp; The gentrification data came from a few places, and because of that my goal was to make sure all the data was coming from reputable sources. A concern I had was that if some of the gentrification data was not as thorough, it would fragment the rest of the data as well. Furthermore, since my Starbucks location data was from 2017, I wanted to look at gentrification indicator data from the year prior (2016). Another important aspect was selecting appropriate indicators of gentrification. There are many indicators that point to the progression of gentrification, but the three I chose based on my research were average home value, population density, and percent of adults with a college degree or higher. Home value is one of the most prominent indicators of gentrification, as the low socioeconomic residents are driven out the affluent individuals come in and drive up the home prices. Population density is also a key factor, and one that I did not initially include. Through work in the early stages, I recognized that population density also increases in areas that are gentrified and could affect the businesses in the area. Lastly, the educational attainment level of a city is an indicator of gentrification because the college education segment of the population tends to have more disposable income, which leads to more spending capabilities in an area. The home value data came from Zillow, which is an online real estate marketplace. Zillow is a hub for buying, selling, and renting homes amongst other home related activities. They have a large research branch that aggregates and produces a lot of housing data, which they have made available to the public for use. The dataset I used specifically was the Zillow Home Value Index (ZHVI). ZHVI is a smoothed and seasonally adjusted measure of the typical home value across a given region. This dataset had month over month data from January 2000 to October 2021 (when I pulled the data). I selected all the data from 2016 and averaged across all the months per city and set that in a new data frame for use. The rest of the gentrification indicator data came from the United States Census Bureau. The Census department makes all their data collection available to the public and there is an exorbitant amount of it. From here, I was able to get the population density by city and the percent of the population that was college educated, which was noted as education attainment level. These were in separate datasets amongst a lot of other information, so I had filter through and select the columns I needed, and then merge them together based on city (reformatted: city, state). </p>\n",
    "<p style='font-family:Times; size:12pt;line-height: 2'> &emsp;&emsp; Now I had three data frames, all by city: number of Starbucks locations in 2017, average home price in 2016, and population density along with percentage of the population that has a college degree in 2016. I was able to merge all these together to create a gentrification data frame as I titled it. Figure 2 below is a snippet of this data frame.</p>"
   ]
  },
  {
   "cell_type": "markdown",
   "id": "1b1eb980",
   "metadata": {},
   "source": [
    "Figure 2: Subset of the gent_dta data frame"
   ]
  },
  {
   "cell_type": "markdown",
   "id": "4ab5747e",
   "metadata": {},
   "source": [
    "![Figure 2](https://github.com/nikhila-iyer/sbux-gent/blob/main/figures/fig2tab.png?raw=true)"
   ]
  },
  {
   "attachments": {},
   "cell_type": "markdown",
   "id": "3c33dbdd",
   "metadata": {},
   "source": [
    "<ul style='font-family:Times; size:12pt'> Data, Units: \n",
    "<li> Store Count, integer count of number of Starbucks stores </li>\n",
    "<li> Average Home Value, USD average price across 2016 of a home </li>\n",
    "<li> Density, population density (population divided by land area) </li>\n",
    "<li> Percent College, percent of adults with a bachelor's degree or higher </li>\n",
    "</ul>"
   ]
  },
  {
   "attachments": {},
   "cell_type": "markdown",
   "id": "976e72de",
   "metadata": {},
   "source": [
    "<p style='font-family:Times; size:12pt;line-height: 2'> &emsp;&emsp; One thing to note is no data comes without issues. One of the most major issues I had with this data is deciding how to select a region or area for all the variables. I ended up going with city (format: city, state) because it was the most consistent across the datasets or was at least at a place I could wrangle it to be at. Furthermore, city boundaries might not be consistent throughout the data. It was likely the most accurate in the Census data and then decreased in accuracy from there to the Zillow, the Starbucks data. It would have been better to use zip or postal code as the main connector, and I tried to but unfortunately there was not constancy or availability of that. </p>\n",
    "<p style='font-family:Times; size:12pt;line-height: 2'> &emsp;&emsp; The most missingness I faced was from the Zillow data. Within the dataset itself it was thorough and complete, especially for the years I needed it for. Unfortunately, it was not as comprehensive in terms of city availability as I noted the Census data and even the Starbucks location data had information on more cities that in the Zillow dataset. Since home value was one of my major indicators for gentrification, this did mean I had to bring my entire sample size down to match that baseline of cities. For reference, the Census data had 3007 unique cities, the Starbucks dataset had 3590 unique cities, and the Zillow dataset only had 908 total unique cities. This brought my whole data frame down to 908 observations to train and test on, which is not bad but ideally there would have been more. </p>"
   ]
  },
  {
   "cell_type": "markdown",
   "id": "7a550ed2",
   "metadata": {},
   "source": [
    "<b style= 'color:#4c9f87; font-family: Times; size:12pt'> Analysis </b>"
   ]
  },
  {
   "attachments": {},
   "cell_type": "markdown",
   "id": "c4056825",
   "metadata": {},
   "source": [
    "<p style='font-family:Times; size:12pt;line-height: 2'> &emsp;&emsp; The entirety of the project was completed in Python. The foundational tool used in this project for all the initial data wrangling and manipulation was Pandas. Pandas is an open source data analysis and data manipulation tool to be used as an add on to Python. Pandas was extremely helpful in helping to manage the large datasets, especially the ones pulled from the Census Bureau. My process with the dataset became standardized as I continued on, but each dataset still required individual attention and specific adjustments which is why I was unable to create functions at this level to parse the data. My process was as follows: first, I pulled in the dataset via read_csv and obtained some basic facts about the dataset like was it viewable (.head()), how large was the set (len(dataset)), what were the columns (dataset.columns), and lastly, checking for missingness. To check for missingness I used the Missingno tool, which is a Python library that provides visualizations regarding the existence and distribution of data in a Pandas data frame. Below I have included an example of a visualization that is produced from the missignno tool, this was initial check on the Starbucks location dataset. As seen, there are large gaps in the postcode and phone number columns, and upon further analysis it can be seen that this is because the data set initially included all stores worldwide and a lot of the international stores do not have phone numbers.</p>"
   ]
  },
  {
   "cell_type": "markdown",
   "id": "898a8c8a",
   "metadata": {},
   "source": [
    "Figure 3: Missingno Plot of Starbucks Dataset"
   ]
  },
  {
   "cell_type": "markdown",
   "id": "a6e0ccf6",
   "metadata": {},
   "source": [
    "![Figure 3](https://github.com/nikhila-iyer/sbux-gent/blob/main/figures/fig2.png?raw=true)"
   ]
  },
  {
   "cell_type": "markdown",
   "id": "3d9385ad",
   "metadata": {},
   "source": [
    "<p style='font-family:Times; size:12pt;line-height: 2'> &emsp;&emsp; Then after completing my initial parsing of the dataset, I proceeded to filter to the columns of data I needed within the dataset. For example, in the ZHVI dataset there was month over month data spanning 20 years, but I just needed the data from 2016. I created a new data frame to hold just the 2016 months. I chose to do this instead of dropping the other columns at first because I did not want to lose the data in case I needed to work with it later. I maintained this mentality throughout my wrangling as it is unclear in the initial stages what data will be helpful later on. Another example of this is zip codes; I retained a lot of zip code data hoping to use it as my merge point for the various data frames later on, but this ended up not being as useful as I first thought. My last general step in data wrangling was getting my gentrification data frame that I would be using for further analysis. As mentioned above, after cleaning all these separate datasets I merged them together over the common column of city so that I could get one view of all the data. This data frame now included city, state, county, number of Starbucks stores, average home value, population density, and percentage of the population with a college degree or higher.</p>\n",
    "<p style='font-family:Times; size:12pt;line-height: 2'> &emsp;&emsp; To understand the relationships between the variables, which is the goal of this project, I mainly used tools from scikit-learn, which is a machine learning library for Python. Scikit-learn has a plethora of modelling options, and the ones I used were Naïve Bayes, K Nearest Neighbors, a decision tree classifier, and a random forest classifier. I started by splitting the data frame into training and testing data so that we could train the models listed above on a set of data and then test the accuracy of its predictability. I then built a pipeline to test which model would work best with the data available and found the random forest classifier worked the best. The random forest classifier works by building smaller decision trees on subsets of the data, and from there uses averaging to improve the predictive accuracy and controls for over fitting of the data. After finding this as the best model, I tuned the specific random forest classifier to work a little better. By following this pipeline process, I was able to generally see all the models work on the data, then focus in on the best one and modify it. After tuning the selected model, I concentrated on the variables themselves. I only had three predictive indicator variables, which were average home value, population density, and percent of the population with a college degree. Still within scikit-learn, I was able to use the permutation variable importance tool, which allowed me to understand which variables were having the most effect on the model. The tool accomplishes this by measuring how score decreases when a variable is not available. From there I was able to create partial dependency plots, which tell us what the probability of our predictions will be per variable. I was also able to create an individual conditional expectation (ICE) plot for the most important variable, which was the educational attainment percentage. </p>\n",
    "<p style='font-family:Times; size:12pt;line-height: 2'> &emsp;&emsp; For my visualizations I used a variety of plotting tools, including ggplot, matplotlib / seaborn, and Geo Pandas. I used ggplot for internal visualizations to see the distribution of all my variables. Seaborn was used for all the plots included below, and Geo Pandas was used for the heat map Starbucks locations across the United States (also included below). </p>"
   ]
  },
  {
   "cell_type": "markdown",
   "id": "f5d57766",
   "metadata": {},
   "source": [
    "<b style= 'color:#4c9f87; font-family: Times; size:12pt'> Results </b>"
   ]
  },
  {
   "attachments": {},
   "cell_type": "markdown",
   "id": "024cf936",
   "metadata": {},
   "source": [
    "<p style='font-family:Times; size:12pt;line-height: 2'> &emsp;&emsp; The results of this analysis show that although there is a relationship between Starbucks locations and some specific indicators of gentrification, it cannot be made into a blanket statement that there is a relationship between the overall level of gentrification in an area and Starbucks locations. This is because there is not a strong enough relationship between the all indicators of gentrification and the number of Starbucks in a city. One of the variables that does not have a strong relationship with the model is population density. Initially, I used Geo Pandas to create a heat map of all the Starbucks locations in contiguous United States. On this map we can see that states with a higher population tend to have more Starbucks locations, such as California, New York, and Florida. Comparatively states with a lower population have less Starbucks locations, such as Wyoming and Montana. With this knowledge, I proceeded to include population density as a measure in my analysis as it seemed to have a high-level correlation with Starbucks stores; and furthermore, areas that are gentrified tend to have a higher population density as well so this could be considered as an indicator. </p>"
   ]
  },
  {
   "cell_type": "markdown",
   "id": "cdcd1d74",
   "metadata": {},
   "source": [
    "![Figure 4](https://raw.githubusercontent.com/nikhila-iyer/sbux-gent/main/figures/fig4.png)"
   ]
  },
  {
   "cell_type": "markdown",
   "id": "caa495bf",
   "metadata": {},
   "source": [
    "<p style='font-family:Times; size:12pt;line-height: 2'> &emsp;&emsp;However, after completing the machine learning portion of this analysis, specifically the variable importance section, I discovered that population density of a city was actually the least important variable in predicting the existence of a Starbucks store. As seen in Figure 5, population density fell as the third most effective variable, after average home value and percentage of educational attainment.</p>"
   ]
  },
  {
   "cell_type": "markdown",
   "id": "e08f822c",
   "metadata": {},
   "source": [
    "![Figure 5](https://github.com/nikhila-iyer/sbux-gent/blob/main/figures/fig5.png?raw=true)"
   ]
  },
  {
   "attachments": {},
   "cell_type": "markdown",
   "id": "563b5797",
   "metadata": {},
   "source": [
    "<p style='font-family:Times; size:12pt;line-height: 2'> &emsp;&emsp; Percent of the adult population with a college degree was the most important variable. To get a better look at its impact, I created an ICE plot of this variable, which is Figure 6 below. </p>"
   ]
  },
  {
   "cell_type": "markdown",
   "id": "a06c1058",
   "metadata": {},
   "source": [
    "![Figure 6](https://raw.githubusercontent.com/nikhila-iyer/sbux-gent/main/figures/fig6.png)"
   ]
  },
  {
   "attachments": {},
   "cell_type": "markdown",
   "id": "61171be8",
   "metadata": {},
   "source": [
    "<p style='font-family:Times; size:12pt;line-height: 2'> &emsp;&emsp;In the plot, the yellow line plots directly with the partial dependency plot, and this is the average predictions, while the green lines are every observation prediction. There is a little bit of heterogeneity between percentage points 20 to 25, as the lines begin to cross and there is a steeper increase. This might mean that as the percentage of college degrees increases it is not as guaranteed that the probability of a store existing increases, as it could also be affected by other variables that carry more importance in that range.</p>\n",
    "<p style='font-family:Times; size:12pt;line-height: 2'> &emsp;&emsp;Overall, the random forest model was 81.1% accurate in predicting the presence of a Starbucks store in the city based on the predictive variables of gentrification provided. Although this seems to be highly accurate, the model was heavily reliant on two variables (out of only three total), and the sample size was smaller than I would have liked. Based on this however, a potential hypothesis regarding this data analysis could be as follows: The level of disposable income in an area, which relates to gentrification, has an effect on the existence of businesses in that area, specifically Starbucks.</p>"
   ]
  },
  {
   "cell_type": "markdown",
   "id": "b4ac91cb",
   "metadata": {},
   "source": [
    "<b style= 'color:#4c9f87; font-family: Times; size:12pt'> Discussion </b>"
   ]
  },
  {
   "attachments": {},
   "cell_type": "markdown",
   "id": "0acfa55e",
   "metadata": {},
   "source": [
    "<p style='font-family:Times; size:12pt;line-height: 2'> &emsp;&emsp; I initially outlined success for this project as being able to make a statement regarding the relationship between the variables analyzed, regardless if the data reveals one as a predictor of the other. At first, I struggled with this, such as during the project presentation. I realize that my vagueness in this statement made it difficult to discern what I was actually looking for. Through the course of my analysis, I was able to pare down the issue. Once I delved into the data further, it helped me make a decision to focus on indicators of gentrification as a potential predictor of the existence of a Starbucks in that city. I was able to do this and state that there does seem to be a relationship between some indicators of gentrification and the existence of a Starbucks, so I would say I was successful in that regard.</p>\n",
    "<p style='font-family:Times; size:12pt;line-height: 2'> &emsp;&emsp; Another marker of success that I wanted to focus on was being able to speak to the data and the results in a thorough manner. I believe I am able to do this confidently. I spent a lot of time with this data, especially in the beginning trying to understand the different variables. I faced a lot of challenges in the wrangling, especially with the Census data, but this forced me to dig deeper in the data and nitpick more than I would have otherwise. This was helpful especially in choosing my predictive variables that would indicate gentrification. Working through and tuning the models to get a deeper analysis on the relationship between the predictive variables and the outcome.</p>\n",
    "<p style='font-family:Times; size:12pt;line-height: 2'> &emsp;&emsp; Furthermore, it was important to me that I create publishable quality visualizations. I also believe I was successful in this matter. I challenged myself to work with new visualization packages such as geopandas, and they were able to present my data in new ways. I am extremely glad I did this because it showed me that I can continue to gain skills outside the classroom with the foundation I got from the work I have already done. </p>\n",
    "<p style='font-family:Times; size:12pt;line-height: 2'> &emsp;&emsp; One thing I would like to look at with more time, is the potential success of a Starbucks based on these indicators of gentrification. Asking the question: will a Starbucks in this location be successful based on the level of gentrification measured through these specific indicators? Furthermore, I would look at other businesses that could be better guides of gentrification or prove a stronger relationship with it. Starbucks is still a semi-accessible business; they have locations in a plethora of different locations and almost fall under the category of “bloom wherever planted”, meaning they are generally successful in any location. Due to this, they might not consider gentrification indicators when strategically placing their store locations. This could be compared to a business within a different industry that might provide other information related to gentrification. Businesses I have considered include Whole Foods and SoulCycle (or any boutique style workout studio). Another consideration I have for the progression of this project would be to add other gentrification indicators to the model, such as looking at the racial breakdown of an area which definitely has an impact on the gentrification level of an area, or other home value data. Zillow had some data regarding the average rent price in cities, but this data was a lot less thorough and would have caused more issues in the model above. With more time, I would be able to find supplementary home value information and add that to the model. Since gentrification has so many indicators, I am glad I started with only a few to get a general sense of the issue. From here I think adding variables in a methodical manner could help paint a more holistic picture of the relationship. Overall, I believe I gained a lot of insight on this topic and developed my data science skills in practice throughout the course of this project. I would consider the project a success personally and educationally, but definitely think there is room for improvement in some of my processes.</p>"
   ]
  },
  {
   "cell_type": "markdown",
   "id": "3898914c",
   "metadata": {},
   "source": [
    "<b style= 'color:#4c9f87; font-family: Times; size:12pt'> Citations </b>"
   ]
  },
  {
   "cell_type": "markdown",
   "id": "33e5a4eb",
   "metadata": {},
   "source": []
  }
 ],
 "metadata": {
  "kernelspec": {
   "display_name": "Python 3 (ipykernel)",
   "language": "python",
   "name": "python3"
  },
  "language_info": {
   "codemirror_mode": {
    "name": "ipython",
    "version": 3
   },
   "file_extension": ".py",
   "mimetype": "text/x-python",
   "name": "python",
   "nbconvert_exporter": "python",
   "pygments_lexer": "ipython3",
   "version": "3.9.7"
  }
 },
 "nbformat": 4,
 "nbformat_minor": 5
}
